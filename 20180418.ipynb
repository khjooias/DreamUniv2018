{
 "cells": [
  {
   "cell_type": "markdown",
   "metadata": {},
   "source": [
    "# 파이썬 기초2\n",
    "## 프로그램 만들어보기"
   ]
  },
  {
   "cell_type": "code",
   "execution_count": 3,
   "metadata": {},
   "outputs": [
    {
     "data": {
      "text/plain": [
       "1.75"
      ]
     },
     "execution_count": 3,
     "metadata": {},
     "output_type": "execute_result"
    }
   ],
   "source": [
    "7/4"
   ]
  },
  {
   "cell_type": "code",
   "execution_count": 4,
   "metadata": {},
   "outputs": [
    {
     "data": {
      "text/plain": [
       "1"
      ]
     },
     "execution_count": 4,
     "metadata": {},
     "output_type": "execute_result"
    }
   ],
   "source": [
    "7//4"
   ]
  },
  {
   "cell_type": "code",
   "execution_count": 5,
   "metadata": {},
   "outputs": [
    {
     "data": {
      "text/plain": [
       "3"
      ]
     },
     "execution_count": 5,
     "metadata": {},
     "output_type": "execute_result"
    }
   ],
   "source": [
    "7%4"
   ]
  },
  {
   "cell_type": "code",
   "execution_count": 1,
   "metadata": {},
   "outputs": [
    {
     "name": "stdout",
     "output_type": "stream",
     "text": [
      "나눗셈의 몫은 2 입니다.\n",
      "나눗셈의 나머지는 0 입니다.\n"
     ]
    }
   ],
   "source": [
    "p = int(input('분자를 입력하시오: '))\n",
    "q = int(input('분모를 입력하시오: '))\n",
    "print(\"나눗셈의 몫은\", p//q, \"입니다.\")\n",
    "print(\"나눗셈의 나머지는\", p%q, \"입니다.\")"
   ]
  },
  {
   "cell_type": "code",
   "execution_count": 3,
   "metadata": {},
   "outputs": [
    {
     "name": "stdout",
     "output_type": "stream",
     "text": [
      "1267 초는 21 분 7 초 입니다.\n"
     ]
    }
   ],
   "source": [
    "sec = int(input('초를 입력해주세요: '))\n",
    "min = sec // 60\n",
    "remainder = sec % 60\n",
    "print(sec, \"초는\", min, \"분\", remainder, \"초 입니다.\")"
   ]
  },
  {
   "cell_type": "markdown",
   "metadata": {},
   "source": [
    "#### 커피 가게 매출 계산하기\n",
    "- 우리가 커피 전문점을 내려고 한다. 다음과 같은 커피 메뉴가 있을 때, 얼마나 많은 매출을 올릴 수 있을지 계산해보자.\n",
    "    1. 아메리카노(2,000원): 10개\n",
    "    2. 카페라떼(3,000원) : 20개\n",
    "    3. 카푸치노(3,500원): 30개"
   ]
  },
  {
   "cell_type": "code",
   "execution_count": 10,
   "metadata": {},
   "outputs": [
    {
     "name": "stdout",
     "output_type": "stream",
     "text": [
      "오늘의 매출은 185000 입니다.\n"
     ]
    }
   ],
   "source": [
    "americano = int(input(\"아메리카노 판매 개수: \"))\n",
    "caffelatte = int(input(\"카페라떼 판매 개수: \"))\n",
    "capuccino= int(input(\"카푸치노 판매 개수: \"))\n",
    "sales = americano * 2000 + caffelatte * 3000 + capuccino * 3500\n",
    "print(\"오늘의 매출은\", sales, \"입니다.\")"
   ]
  },
  {
   "cell_type": "markdown",
   "metadata": {},
   "source": [
    "#### 화씨온도 섭씨로 바꾸기\n",
    "- 화씨온도를 받아서 섭씨온도로 바꾸는 프로그램을 작성해보자.\n",
    "- 화씨 = (섭씨 - 32) * 5/9"
   ]
  },
  {
   "cell_type": "code",
   "execution_count": 5,
   "metadata": {},
   "outputs": [
    {
     "name": "stdout",
     "output_type": "stream",
     "text": [
      "77.6 섭씨온도는 25.33333333333333 화씨온도 입니다.\n"
     ]
    }
   ],
   "source": [
    "# 정수형 자료는 int로, 실수형 자료는 float로 받는다.\n",
    "F_temp = float(input(\"화씨온도를 입력하시오: \")) \n",
    "C_temp = (F_temp - 32) * 5/9\n",
    "print(F_temp, \"섭씨온도는\", C_temp, \"화씨온도 입니다.\")"
   ]
  },
  {
   "cell_type": "code",
   "execution_count": 7,
   "metadata": {},
   "outputs": [
    {
     "data": {
      "text/plain": [
       "8"
      ]
     },
     "execution_count": 7,
     "metadata": {},
     "output_type": "execute_result"
    }
   ],
   "source": [
    "2 ** 3"
   ]
  },
  {
   "cell_type": "code",
   "execution_count": 10,
   "metadata": {},
   "outputs": [
    {
     "name": "stdout",
     "output_type": "stream",
     "text": [
      "1000 원을 빌려드립니다.\n",
      "이자를 합한 총액은 1100.0 입니다.\n"
     ]
    }
   ],
   "source": [
    "money = int(input(\"얼마 빌려줄까요? \"))\n",
    "print(money, \"원을 빌려드립니다.\")\n",
    "mony *= 1.1 # money = money * 1.1\n",
    "print(\"이자를 합한 총액은\", money, \"입니다.\")"
   ]
  },
  {
   "cell_type": "code",
   "execution_count": 17,
   "metadata": {},
   "outputs": [],
   "source": [
    "x = 3\n",
    "x = x + 1"
   ]
  },
  {
   "cell_type": "code",
   "execution_count": 18,
   "metadata": {},
   "outputs": [
    {
     "data": {
      "text/plain": [
       "5"
      ]
     },
     "execution_count": 18,
     "metadata": {},
     "output_type": "execute_result"
    }
   ],
   "source": [
    "x += 1\n",
    "x"
   ]
  },
  {
   "cell_type": "markdown",
   "metadata": {},
   "source": [
    "#### 세 숫자의 평균 구하기\n",
    "- 사용자로 부터 x, y, z라는 변수로 세 숫자(실수형)를 입력받는다. 입력 받은 숫자의 평균을 구하여 avg라는 변수를 넣고, \"평균은 xx 입니다.\" 라고 출력해보라."
   ]
  },
  {
   "cell_type": "code",
   "execution_count": 3,
   "metadata": {},
   "outputs": [],
   "source": [
    "x = float(input()\n",
    "y = float(input(\"숫자를 입력하시오: \"))\n",
    "z = float(input(\"숫자를 입력하시오: \"))\n",
    "avg = (x + y + z) / 3\n",
    "print = (avg, \"입니다. \")"
   ]
  },
  {
   "cell_type": "code",
   "execution_count": null,
   "metadata": {},
   "outputs": [],
   "source": []
  }
 ],
 "metadata": {
  "kernelspec": {
   "display_name": "Python 3",
   "language": "python",
   "name": "python3"
  },
  "language_info": {
   "codemirror_mode": {
    "name": "ipython",
    "version": 3
   },
   "file_extension": ".py",
   "mimetype": "text/x-python",
   "name": "python",
   "nbconvert_exporter": "python",
   "pygments_lexer": "ipython3",
   "version": "3.6.4"
  }
 },
 "nbformat": 4,
 "nbformat_minor": 2
}
